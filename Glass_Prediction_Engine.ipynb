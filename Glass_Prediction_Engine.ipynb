{
  "nbformat": 4,
  "nbformat_minor": 0,
  "metadata": {
    "colab": {
      "name": "Glass Prediction Engine",
      "provenance": []
    },
    "kernelspec": {
      "name": "python3",
      "display_name": "Python 3"
    }
  },
  "cells": [
    {
      "cell_type": "markdown",
      "metadata": {
        "id": "lzfy40oMe-tr"
      },
      "source": [
        "# **Business Problem**\n",
        "**Data Driven Approach to classify glasses.**\n",
        "\n",
        "# **Data Science Problem**\n",
        "**Classification engine that predicts and classifies glass into different categories on the basis of their composition, refractive index and other attributes.**"
      ]
    },
    {
      "cell_type": "markdown",
      "metadata": {
        "id": "chpUcTH5gzzP"
      },
      "source": [
        "##***Import Libraries and Dependencies***"
      ]
    },
    {
      "cell_type": "code",
      "metadata": {
        "id": "5LAHw1J-xHs5"
      },
      "source": [
        "import numpy as np\n",
        "import pandas as pd\n",
        "import seaborn as sns\n",
        "import matplotlib.pyplot as plt\n",
        "%matplotlib inline"
      ],
      "execution_count": 1,
      "outputs": []
    },
    {
      "cell_type": "code",
      "metadata": {
        "id": "tvPr8jrLvryL"
      },
      "source": [
        "import warnings\n",
        "warnings.filterwarnings('ignore')"
      ],
      "execution_count": 2,
      "outputs": []
    },
    {
      "cell_type": "markdown",
      "metadata": {
        "id": "YA1CslXk0YSr"
      },
      "source": [
        "### **Classification Models:**\n",
        "    1. Logistic Regression\n",
        "    2. Logistic Regression with Cross Validator\n",
        "    3. Stochastic Gradient Descent Classifier\n",
        "    4. Gaussian Naive Bayes\n",
        "    5. K Nearest Neighbors\n",
        "    6. Decision Tree Classifier\n",
        "    7. Random Forest Classifier"
      ]
    },
    {
      "cell_type": "code",
      "metadata": {
        "id": "axHH-ZAmyrhW"
      },
      "source": [
        "from sklearn.linear_model import LogisticRegression, LogisticRegressionCV, SGDClassifier\n",
        "from sklearn.naive_bayes import GaussianNB\n",
        "from sklearn.neighbors import KNeighborsClassifier\n",
        "from sklearn.tree import DecisionTreeClassifier\n",
        "from sklearn.ensemble import RandomForestClassifier"
      ],
      "execution_count": 3,
      "outputs": []
    },
    {
      "cell_type": "code",
      "metadata": {
        "id": "S3cxak5swn2X"
      },
      "source": [
        "from sklearn.model_selection import GridSearchCV, train_test_split\n",
        "from sklearn.metrics import mean_absolute_error, mean_squared_error, r2_score\n",
        "from sklearn.metrics import accuracy_score, confusion_matrix, classification_report\n",
        "from sklearn.externals import joblib"
      ],
      "execution_count": 4,
      "outputs": []
    },
    {
      "cell_type": "markdown",
      "metadata": {
        "id": "m9Z5R0yiidm3"
      },
      "source": [
        "##***Uploading Data Source***"
      ]
    },
    {
      "cell_type": "code",
      "metadata": {
        "colab": {
          "resources": {
            "http://localhost:8080/nbextensions/google.colab/files.js": {
              "data": "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",
              "ok": true,
              "headers": [
                [
                  "content-type",
                  "application/javascript"
                ]
              ],
              "status": 200,
              "status_text": ""
            }
          },
          "base_uri": "https://localhost:8080/",
          "height": 74
        },
        "id": "B3_q0pMGeZZo",
        "outputId": "716ca904-0302-4c64-c825-7d4bf39f6c18"
      },
      "source": [
        "from google.colab import files\n",
        "import io\n",
        "\n",
        "uploaded = files.upload()"
      ],
      "execution_count": 5,
      "outputs": [
        {
          "output_type": "display_data",
          "data": {
            "text/html": [
              "\n",
              "     <input type=\"file\" id=\"files-4eac53e1-5714-4b78-8822-1b6a653f98f7\" name=\"files[]\" multiple disabled\n",
              "        style=\"border:none\" />\n",
              "     <output id=\"result-4eac53e1-5714-4b78-8822-1b6a653f98f7\">\n",
              "      Upload widget is only available when the cell has been executed in the\n",
              "      current browser session. Please rerun this cell to enable.\n",
              "      </output>\n",
              "      <script src=\"/nbextensions/google.colab/files.js\"></script> "
            ],
            "text/plain": [
              "<IPython.core.display.HTML object>"
            ]
          },
          "metadata": {
            "tags": []
          }
        },
        {
          "output_type": "stream",
          "text": [
            "Saving glass.csv to glass.csv\n"
          ],
          "name": "stdout"
        }
      ]
    },
    {
      "cell_type": "code",
      "metadata": {
        "id": "boCXIhqbCKFJ"
      },
      "source": [
        "data = pd.read_csv(io.BytesIO(uploaded['glass.csv']))"
      ],
      "execution_count": 6,
      "outputs": []
    },
    {
      "cell_type": "markdown",
      "metadata": {
        "id": "GkMg-gGljEID"
      },
      "source": [
        "##***Inspecting and Analyzing Data Source***"
      ]
    },
    {
      "cell_type": "code",
      "metadata": {
        "colab": {
          "base_uri": "https://localhost:8080/",
          "height": 202
        },
        "id": "3N71e9SmCnT7",
        "outputId": "ec654393-f4b9-4907-da45-3a5d8d3a6eeb"
      },
      "source": [
        "data.head()"
      ],
      "execution_count": 7,
      "outputs": [
        {
          "output_type": "execute_result",
          "data": {
            "text/html": [
              "<div>\n",
              "<style scoped>\n",
              "    .dataframe tbody tr th:only-of-type {\n",
              "        vertical-align: middle;\n",
              "    }\n",
              "\n",
              "    .dataframe tbody tr th {\n",
              "        vertical-align: top;\n",
              "    }\n",
              "\n",
              "    .dataframe thead th {\n",
              "        text-align: right;\n",
              "    }\n",
              "</style>\n",
              "<table border=\"1\" class=\"dataframe\">\n",
              "  <thead>\n",
              "    <tr style=\"text-align: right;\">\n",
              "      <th></th>\n",
              "      <th>RI</th>\n",
              "      <th>Na</th>\n",
              "      <th>Mg</th>\n",
              "      <th>Al</th>\n",
              "      <th>Si</th>\n",
              "      <th>K</th>\n",
              "      <th>Ca</th>\n",
              "      <th>Ba</th>\n",
              "      <th>Fe</th>\n",
              "      <th>Type</th>\n",
              "    </tr>\n",
              "  </thead>\n",
              "  <tbody>\n",
              "    <tr>\n",
              "      <th>0</th>\n",
              "      <td>1.52101</td>\n",
              "      <td>13.64</td>\n",
              "      <td>4.49</td>\n",
              "      <td>1.10</td>\n",
              "      <td>71.78</td>\n",
              "      <td>0.06</td>\n",
              "      <td>8.75</td>\n",
              "      <td>0.0</td>\n",
              "      <td>0.0</td>\n",
              "      <td>1</td>\n",
              "    </tr>\n",
              "    <tr>\n",
              "      <th>1</th>\n",
              "      <td>1.51761</td>\n",
              "      <td>13.89</td>\n",
              "      <td>3.60</td>\n",
              "      <td>1.36</td>\n",
              "      <td>72.73</td>\n",
              "      <td>0.48</td>\n",
              "      <td>7.83</td>\n",
              "      <td>0.0</td>\n",
              "      <td>0.0</td>\n",
              "      <td>1</td>\n",
              "    </tr>\n",
              "    <tr>\n",
              "      <th>2</th>\n",
              "      <td>1.51618</td>\n",
              "      <td>13.53</td>\n",
              "      <td>3.55</td>\n",
              "      <td>1.54</td>\n",
              "      <td>72.99</td>\n",
              "      <td>0.39</td>\n",
              "      <td>7.78</td>\n",
              "      <td>0.0</td>\n",
              "      <td>0.0</td>\n",
              "      <td>1</td>\n",
              "    </tr>\n",
              "    <tr>\n",
              "      <th>3</th>\n",
              "      <td>1.51766</td>\n",
              "      <td>13.21</td>\n",
              "      <td>3.69</td>\n",
              "      <td>1.29</td>\n",
              "      <td>72.61</td>\n",
              "      <td>0.57</td>\n",
              "      <td>8.22</td>\n",
              "      <td>0.0</td>\n",
              "      <td>0.0</td>\n",
              "      <td>1</td>\n",
              "    </tr>\n",
              "    <tr>\n",
              "      <th>4</th>\n",
              "      <td>1.51742</td>\n",
              "      <td>13.27</td>\n",
              "      <td>3.62</td>\n",
              "      <td>1.24</td>\n",
              "      <td>73.08</td>\n",
              "      <td>0.55</td>\n",
              "      <td>8.07</td>\n",
              "      <td>0.0</td>\n",
              "      <td>0.0</td>\n",
              "      <td>1</td>\n",
              "    </tr>\n",
              "  </tbody>\n",
              "</table>\n",
              "</div>"
            ],
            "text/plain": [
              "        RI     Na    Mg    Al     Si     K    Ca   Ba   Fe  Type\n",
              "0  1.52101  13.64  4.49  1.10  71.78  0.06  8.75  0.0  0.0     1\n",
              "1  1.51761  13.89  3.60  1.36  72.73  0.48  7.83  0.0  0.0     1\n",
              "2  1.51618  13.53  3.55  1.54  72.99  0.39  7.78  0.0  0.0     1\n",
              "3  1.51766  13.21  3.69  1.29  72.61  0.57  8.22  0.0  0.0     1\n",
              "4  1.51742  13.27  3.62  1.24  73.08  0.55  8.07  0.0  0.0     1"
            ]
          },
          "metadata": {
            "tags": []
          },
          "execution_count": 7
        }
      ]
    },
    {
      "cell_type": "markdown",
      "metadata": {
        "id": "upExeAZJC7oO"
      },
      "source": [
        "###**Attribute Information:**\n",
        "\n",
        "* Id number: 1 to 214 (removed from CSV file)\n",
        "* RI: refractive index\n",
        "* Na: Sodium (unit measurement: weight percent in corresponding oxide, as are attributes 4-10)\n",
        "* Mg: Magnesium\n",
        "* Al: Aluminum\n",
        "* Si: Silicon\n",
        "* K: Potassium\n",
        "* Ca: Calcium\n",
        "* Ba: Barium\n",
        "* Fe: Iron\n",
        "* Type of glass: (class attribute)\n",
        "    1. buildingwindowsfloatprocessed\n",
        "    2. buildingwindowsnonfloatprocessed \n",
        "    3. vehiclewindowsfloatprocessed\n",
        "    4. vehiclewindowsnonfloatprocessed (none in this database)\n",
        "    5. containers\n",
        "    6. tableware\n",
        "    7. headlamps"
      ]
    },
    {
      "cell_type": "code",
      "metadata": {
        "colab": {
          "base_uri": "https://localhost:8080/",
          "height": 294
        },
        "id": "2BTROT04Cn63",
        "outputId": "555b3020-ad46-4ce3-c6d5-d9c5ea094661"
      },
      "source": [
        "data.describe()"
      ],
      "execution_count": 8,
      "outputs": [
        {
          "output_type": "execute_result",
          "data": {
            "text/html": [
              "<div>\n",
              "<style scoped>\n",
              "    .dataframe tbody tr th:only-of-type {\n",
              "        vertical-align: middle;\n",
              "    }\n",
              "\n",
              "    .dataframe tbody tr th {\n",
              "        vertical-align: top;\n",
              "    }\n",
              "\n",
              "    .dataframe thead th {\n",
              "        text-align: right;\n",
              "    }\n",
              "</style>\n",
              "<table border=\"1\" class=\"dataframe\">\n",
              "  <thead>\n",
              "    <tr style=\"text-align: right;\">\n",
              "      <th></th>\n",
              "      <th>RI</th>\n",
              "      <th>Na</th>\n",
              "      <th>Mg</th>\n",
              "      <th>Al</th>\n",
              "      <th>Si</th>\n",
              "      <th>K</th>\n",
              "      <th>Ca</th>\n",
              "      <th>Ba</th>\n",
              "      <th>Fe</th>\n",
              "      <th>Type</th>\n",
              "    </tr>\n",
              "  </thead>\n",
              "  <tbody>\n",
              "    <tr>\n",
              "      <th>count</th>\n",
              "      <td>214.000000</td>\n",
              "      <td>214.000000</td>\n",
              "      <td>214.000000</td>\n",
              "      <td>214.000000</td>\n",
              "      <td>214.000000</td>\n",
              "      <td>214.000000</td>\n",
              "      <td>214.000000</td>\n",
              "      <td>214.000000</td>\n",
              "      <td>214.000000</td>\n",
              "      <td>214.000000</td>\n",
              "    </tr>\n",
              "    <tr>\n",
              "      <th>mean</th>\n",
              "      <td>1.518365</td>\n",
              "      <td>13.407850</td>\n",
              "      <td>2.684533</td>\n",
              "      <td>1.444907</td>\n",
              "      <td>72.650935</td>\n",
              "      <td>0.497056</td>\n",
              "      <td>8.956963</td>\n",
              "      <td>0.175047</td>\n",
              "      <td>0.057009</td>\n",
              "      <td>2.780374</td>\n",
              "    </tr>\n",
              "    <tr>\n",
              "      <th>std</th>\n",
              "      <td>0.003037</td>\n",
              "      <td>0.816604</td>\n",
              "      <td>1.442408</td>\n",
              "      <td>0.499270</td>\n",
              "      <td>0.774546</td>\n",
              "      <td>0.652192</td>\n",
              "      <td>1.423153</td>\n",
              "      <td>0.497219</td>\n",
              "      <td>0.097439</td>\n",
              "      <td>2.103739</td>\n",
              "    </tr>\n",
              "    <tr>\n",
              "      <th>min</th>\n",
              "      <td>1.511150</td>\n",
              "      <td>10.730000</td>\n",
              "      <td>0.000000</td>\n",
              "      <td>0.290000</td>\n",
              "      <td>69.810000</td>\n",
              "      <td>0.000000</td>\n",
              "      <td>5.430000</td>\n",
              "      <td>0.000000</td>\n",
              "      <td>0.000000</td>\n",
              "      <td>1.000000</td>\n",
              "    </tr>\n",
              "    <tr>\n",
              "      <th>25%</th>\n",
              "      <td>1.516523</td>\n",
              "      <td>12.907500</td>\n",
              "      <td>2.115000</td>\n",
              "      <td>1.190000</td>\n",
              "      <td>72.280000</td>\n",
              "      <td>0.122500</td>\n",
              "      <td>8.240000</td>\n",
              "      <td>0.000000</td>\n",
              "      <td>0.000000</td>\n",
              "      <td>1.000000</td>\n",
              "    </tr>\n",
              "    <tr>\n",
              "      <th>50%</th>\n",
              "      <td>1.517680</td>\n",
              "      <td>13.300000</td>\n",
              "      <td>3.480000</td>\n",
              "      <td>1.360000</td>\n",
              "      <td>72.790000</td>\n",
              "      <td>0.555000</td>\n",
              "      <td>8.600000</td>\n",
              "      <td>0.000000</td>\n",
              "      <td>0.000000</td>\n",
              "      <td>2.000000</td>\n",
              "    </tr>\n",
              "    <tr>\n",
              "      <th>75%</th>\n",
              "      <td>1.519157</td>\n",
              "      <td>13.825000</td>\n",
              "      <td>3.600000</td>\n",
              "      <td>1.630000</td>\n",
              "      <td>73.087500</td>\n",
              "      <td>0.610000</td>\n",
              "      <td>9.172500</td>\n",
              "      <td>0.000000</td>\n",
              "      <td>0.100000</td>\n",
              "      <td>3.000000</td>\n",
              "    </tr>\n",
              "    <tr>\n",
              "      <th>max</th>\n",
              "      <td>1.533930</td>\n",
              "      <td>17.380000</td>\n",
              "      <td>4.490000</td>\n",
              "      <td>3.500000</td>\n",
              "      <td>75.410000</td>\n",
              "      <td>6.210000</td>\n",
              "      <td>16.190000</td>\n",
              "      <td>3.150000</td>\n",
              "      <td>0.510000</td>\n",
              "      <td>7.000000</td>\n",
              "    </tr>\n",
              "  </tbody>\n",
              "</table>\n",
              "</div>"
            ],
            "text/plain": [
              "               RI          Na          Mg  ...          Ba          Fe        Type\n",
              "count  214.000000  214.000000  214.000000  ...  214.000000  214.000000  214.000000\n",
              "mean     1.518365   13.407850    2.684533  ...    0.175047    0.057009    2.780374\n",
              "std      0.003037    0.816604    1.442408  ...    0.497219    0.097439    2.103739\n",
              "min      1.511150   10.730000    0.000000  ...    0.000000    0.000000    1.000000\n",
              "25%      1.516523   12.907500    2.115000  ...    0.000000    0.000000    1.000000\n",
              "50%      1.517680   13.300000    3.480000  ...    0.000000    0.000000    2.000000\n",
              "75%      1.519157   13.825000    3.600000  ...    0.000000    0.100000    3.000000\n",
              "max      1.533930   17.380000    4.490000  ...    3.150000    0.510000    7.000000\n",
              "\n",
              "[8 rows x 10 columns]"
            ]
          },
          "metadata": {
            "tags": []
          },
          "execution_count": 8
        }
      ]
    },
    {
      "cell_type": "code",
      "metadata": {
        "colab": {
          "base_uri": "https://localhost:8080/"
        },
        "id": "XowPihJMEJEp",
        "outputId": "dc6d96cf-967f-4839-efe9-9dac67dd928d"
      },
      "source": [
        "data.info()"
      ],
      "execution_count": 9,
      "outputs": [
        {
          "output_type": "stream",
          "text": [
            "<class 'pandas.core.frame.DataFrame'>\n",
            "RangeIndex: 214 entries, 0 to 213\n",
            "Data columns (total 10 columns):\n",
            " #   Column  Non-Null Count  Dtype  \n",
            "---  ------  --------------  -----  \n",
            " 0   RI      214 non-null    float64\n",
            " 1   Na      214 non-null    float64\n",
            " 2   Mg      214 non-null    float64\n",
            " 3   Al      214 non-null    float64\n",
            " 4   Si      214 non-null    float64\n",
            " 5   K       214 non-null    float64\n",
            " 6   Ca      214 non-null    float64\n",
            " 7   Ba      214 non-null    float64\n",
            " 8   Fe      214 non-null    float64\n",
            " 9   Type    214 non-null    int64  \n",
            "dtypes: float64(9), int64(1)\n",
            "memory usage: 16.8 KB\n"
          ],
          "name": "stdout"
        }
      ]
    },
    {
      "cell_type": "code",
      "metadata": {
        "colab": {
          "base_uri": "https://localhost:8080/"
        },
        "id": "ISmcztApESmu",
        "outputId": "aa3409b4-6cd3-4a03-e73a-8a0b9d840205"
      },
      "source": [
        "num_col = data.select_dtypes(include = np.number).columns\n",
        "categ_col = data.select_dtypes(exclude = np.number).columns\n",
        "\n",
        "print(\"\\n Numerical Columns: \", num_col)\n",
        "print(\"\\n Categorical Columns: \", categ_col)"
      ],
      "execution_count": 10,
      "outputs": [
        {
          "output_type": "stream",
          "text": [
            "\n",
            " Numerical Columns:  Index(['RI', 'Na', 'Mg', 'Al', 'Si', 'K', 'Ca', 'Ba', 'Fe', 'Type'], dtype='object')\n",
            "\n",
            " Categorical Columns:  Index([], dtype='object')\n"
          ],
          "name": "stdout"
        }
      ]
    },
    {
      "cell_type": "code",
      "metadata": {
        "colab": {
          "base_uri": "https://localhost:8080/"
        },
        "id": "exP2PgbLoW-E",
        "outputId": "9aa931f6-aaab-4a99-9e4f-2d4c54abeb98"
      },
      "source": [
        "# Checking for NA values\n",
        "\n",
        "print(data.isna().sum())\n",
        "print(data.shape)"
      ],
      "execution_count": 11,
      "outputs": [
        {
          "output_type": "stream",
          "text": [
            "RI      0\n",
            "Na      0\n",
            "Mg      0\n",
            "Al      0\n",
            "Si      0\n",
            "K       0\n",
            "Ca      0\n",
            "Ba      0\n",
            "Fe      0\n",
            "Type    0\n",
            "dtype: int64\n",
            "(214, 10)\n"
          ],
          "name": "stdout"
        }
      ]
    },
    {
      "cell_type": "markdown",
      "metadata": {
        "id": "7v4xAhe8n02m"
      },
      "source": [
        "##***Exploratory Data Analysis***"
      ]
    },
    {
      "cell_type": "markdown",
      "metadata": {
        "id": "g8wg3wIfsj-4"
      },
      "source": [
        "### *1. Check Distribution of Target Variable*"
      ]
    },
    {
      "cell_type": "code",
      "metadata": {
        "colab": {
          "base_uri": "https://localhost:8080/",
          "height": 279
        },
        "id": "FWh9m2CDomZA",
        "outputId": "b92b8fb8-2fe6-4b73-8ff0-162ec2776e71"
      },
      "source": [
        "sns.countplot(y = data['Type'], data = data)\n",
        "plt.xlabel('Count of each Target class')\n",
        "plt.ylabel('Target Classes')\n",
        "plt.show()"
      ],
      "execution_count": 12,
      "outputs": [
        {
          "output_type": "display_data",
          "data": {
            "image/png": "[encoded data removed]",
            "text/plain": [
              "<Figure size 432x288 with 1 Axes>"
            ]
          },
          "metadata": {
            "tags": [],
            "needs_background": "light"
          }
        }
      ]
    },
    {
      "cell_type": "markdown",
      "metadata": {
        "id": "TKd0uBNstQTO"
      },
      "source": [
        "#### ***Data Viz Built in Tableau:***\n",
        "\n",
        "[**Target Variable Distribution**](https://public.tableau.com/views/GlassTypePrediction/TargetVariableDistribution?:language=en&:retry=yes&:display_count=y&:origin=viz_share_link)\n",
        "\n",
        "Here we can see, the Target Variable is not evenly distributed and there is **HIGH CLASS IMBALANCE** in Data.\n",
        "\n",
        "So we'll be using mechanisms to eliminate this problem either by DownSampling or UpSampling, we'll see that later."
      ]
    },
    {
      "cell_type": "markdown",
      "metadata": {
        "id": "ZOIP6NFytGlk"
      },
      "source": [
        "### *2. Check distribution of all features.*"
      ]
    },
    {
      "cell_type": "code",
      "metadata": {
        "id": "NdNhSWq2xYtF",
        "colab": {
          "base_uri": "https://localhost:8080/",
          "height": 716
        },
        "outputId": "e61992db-057a-41c4-b55c-ee4ca2f8b066"
      },
      "source": [
        "\n",
        "data.hist(figsize = (15, 12), bins = 15)\n",
        "plt.title('Feature Distribution')\n",
        "plt.show()"
      ],
      "execution_count": 13,
      "outputs": [
        {
          "output_type": "display_data",
          "data": {
            "image/png": "[encoded data removed]",
            "text/plain": [
              "<Figure size 1080x864 with 12 Axes>"
            ]
          },
          "metadata": {
            "tags": [],
            "needs_background": "light"
          }
        }
      ]
    },
    {
      "cell_type": "markdown",
      "metadata": {
        "id": "EIv08rKbvANk"
      },
      "source": [
        "#### ***Data Viz Built in Tableau:***\n",
        "\n",
        "[**All Features Distribution**](https://public.tableau.com/views/GlassTypePrediction/AllFeaturesDistribution?:language=en&:useGuest=true&:display_count=y&:origin=viz_share_link)"
      ]
    },
    {
      "cell_type": "markdown",
      "metadata": {
        "id": "HddTqqXTtWKr"
      },
      "source": [
        "### *3.Checking for Multicollinearity of Features - Relational Dependencies among the features.*"
      ]
    },
    {
      "cell_type": "code",
      "metadata": {
        "colab": {
          "base_uri": "https://localhost:8080/",
          "height": 960
        },
        "id": "HjcR5kyyFJX9",
        "outputId": "e1ae00dc-a8ad-4f5a-922e-3716939a2931"
      },
      "source": [
        "plt.figure(figsize = (15, 15), dpi = 80)\n",
        "p = sns.heatmap(data[num_col].corr(), annot = True, cmap = 'seismic', center = 0)"
      ],
      "execution_count": 14,
      "outputs": [
        {
          "output_type": "display_data",
          "data": {
            "image/png": "[encoded data removed]",
            "text/plain": [
              "<Figure size 1200x1200 with 2 Axes>"
            ]
          },
          "metadata": {
            "tags": [],
            "needs_background": "light"
          }
        }
      ]
    },
    {
      "cell_type": "markdown",
      "metadata": {
        "id": "YGoHa3GptwVF"
      },
      "source": [
        "### *4. Distribution of y variable corresponding to each feature - dependency of y on every x individually.*"
      ]
    },
    {
      "cell_type": "code",
      "metadata": {
        "id": "LM_8rIT0zwYm",
        "colab": {
          "base_uri": "https://localhost:8080/",
          "height": 1000
        },
        "outputId": "cede8cc8-ec7f-4a7a-a276-d989402f7bb6"
      },
      "source": [
        "fig, ax = plt.subplots(nrows = 3, ncols = 3, figsize = (25,25))\n",
        "plt.title('Individual Features by Class')\n",
        "row = 0\n",
        "col = 0\n",
        "for i in range(len(data.columns)-1):\n",
        "    if col > 2:\n",
        "        row += 1\n",
        "        col = 0\n",
        "    axes = ax[row, col]\n",
        "    sns.boxplot(x = data['Type'], y = data[data.columns[i]], ax = axes)\n",
        "    col += 1\n",
        "\n",
        "plt.tight_layout()\n",
        "plt.show()"
      ],
      "execution_count": 15,
      "outputs": [
        {
          "output_type": "display_data",
          "data": {
            "image/png": "[encoded data removed]",
            "text/plain": [
              "<Figure size 1800x1800 with 9 Axes>"
            ]
          },
          "metadata": {
            "tags": [],
            "needs_background": "light"
          }
        }
      ]
    },
    {
      "cell_type": "markdown",
      "metadata": {
        "id": "r_FTuRt6uEs0"
      },
      "source": [
        "### ***Handling Class Imbalance - Over Sampling***"
      ]
    },
    {
      "cell_type": "code",
      "metadata": {
        "id": "oxaujeYnrhvF"
      },
      "source": [
        "from imblearn.over_sampling import RandomOverSampler\n",
        "\n",
        "X = data.drop(['Type'], axis = 1)\n",
        "y = data['Type']\n",
        "\n",
        "ros = RandomOverSampler()\n",
        "X_ros, y_ros = ros.fit_sample(X, y)"
      ],
      "execution_count": 16,
      "outputs": []
    },
    {
      "cell_type": "code",
      "metadata": {
        "colab": {
          "base_uri": "https://localhost:8080/"
        },
        "id": "ISWsQb8xwDod",
        "outputId": "b9626d7e-e38f-432b-d103-86421a389e7a"
      },
      "source": [
        "(unique, counts) = np.unique(y, return_counts=True)\n",
        "frequencies = np.asarray((unique, counts)).T\n",
        "print('Frequencies before Over Sampling: \\n', frequencies)"
      ],
      "execution_count": 17,
      "outputs": [
        {
          "output_type": "stream",
          "text": [
            "Frequencies before Over Sampling: \n",
            " [[ 1 70]\n",
            " [ 2 76]\n",
            " [ 3 17]\n",
            " [ 5 13]\n",
            " [ 6  9]\n",
            " [ 7 29]]\n"
          ],
          "name": "stdout"
        }
      ]
    },
    {
      "cell_type": "code",
      "metadata": {
        "colab": {
          "base_uri": "https://localhost:8080/"
        },
        "id": "UzCwC2QRvkuI",
        "outputId": "aff6e781-767f-4126-e020-137711d56074"
      },
      "source": [
        "(unique, counts) = np.unique(y_ros, return_counts=True)\n",
        "frequencies = np.asarray((unique, counts)).T\n",
        "print('Frequencies after Over Sampling: \\n', frequencies)"
      ],
      "execution_count": 18,
      "outputs": [
        {
          "output_type": "stream",
          "text": [
            "Frequencies after Over Sampling: \n",
            " [[ 1 76]\n",
            " [ 2 76]\n",
            " [ 3 76]\n",
            " [ 5 76]\n",
            " [ 6 76]\n",
            " [ 7 76]]\n"
          ],
          "name": "stdout"
        }
      ]
    },
    {
      "cell_type": "markdown",
      "metadata": {
        "id": "SvklWDkAxXgW"
      },
      "source": [
        "##***Model Building***"
      ]
    },
    {
      "cell_type": "markdown",
      "metadata": {
        "id": "deMDy5xr1QH2"
      },
      "source": [
        "**Splitting Over-Sampled Dataset into Train-Test Data with test size of 35%**"
      ]
    },
    {
      "cell_type": "code",
      "metadata": {
        "id": "3xU117xywZqL"
      },
      "source": [
        "X_train, X_test, y_train, y_test = train_test_split(X_ros, y_ros, test_size = 0.35, random_state = 1050)"
      ],
      "execution_count": 19,
      "outputs": []
    },
    {
      "cell_type": "code",
      "metadata": {
        "id": "lEcg0Pht4yyP"
      },
      "source": [
        "def evaluateModel(actual, prediction):\n",
        "    print('\\n\\n\\nConfusion Matrix:\\n', confusion_matrix(actual, prediction))\n",
        "    print('\\n\\nAccuracy Score:  {:.2f}%'.format(accuracy_score(actual, prediction)*100))\n",
        "    print('\\n\\nClassification Report:\\n', classification_report(actual, prediction))"
      ],
      "execution_count": 20,
      "outputs": []
    },
    {
      "cell_type": "code",
      "metadata": {
        "id": "Ns0ZB_Oa5qvq"
      },
      "source": [
        "def mean_absolute_percentage_error(actual, prediction):\n",
        "    y_true, y_pred = np.array(actual), np.array(prediction)\n",
        "    return np.mean(np.abs((actual - prediction)/ actual)) * 100"
      ],
      "execution_count": 21,
      "outputs": []
    },
    {
      "cell_type": "code",
      "metadata": {
        "id": "DXZkYDV85LrL"
      },
      "source": [
        "def modelMetrics(actual, prediction):\n",
        "    print('R2 Score: ',r2_score(actual, prediction))\n",
        "    print('MAE Score: ', mean_absolute_error(actual, prediction))\n",
        "    print('MSE Score: ', mean_squared_error(actual, prediction))\n",
        "    print('MAPE Score: ', mean_absolute_percentage_error(actual, prediction))\n",
        "\n"
      ],
      "execution_count": 22,
      "outputs": []
    },
    {
      "cell_type": "markdown",
      "metadata": {
        "id": "n8nIYJBX4DLt"
      },
      "source": [
        "## **1. Logistic Regression**"
      ]
    },
    {
      "cell_type": "code",
      "metadata": {
        "colab": {
          "base_uri": "https://localhost:8080/"
        },
        "id": "13jfdDnE4Cmr",
        "outputId": "6d2cb528-f480-4dbd-8a56-beece85bae6d"
      },
      "source": [
        "lr = LogisticRegression()\n",
        "lr.fit(X_train, y_train)\n",
        "print('Logistic Regression Model: \\n', lr)\n",
        "lrpred = lr.predict(X_test)"
      ],
      "execution_count": 23,
      "outputs": [
        {
          "output_type": "stream",
          "text": [
            "Logistic Regression Model: \n",
            " LogisticRegression(C=1.0, class_weight=None, dual=False, fit_intercept=True,\n",
            "                   intercept_scaling=1, l1_ratio=None, max_iter=100,\n",
            "                   multi_class='auto', n_jobs=None, penalty='l2',\n",
            "                   random_state=None, solver='lbfgs', tol=0.0001, verbose=0,\n",
            "                   warm_start=False)\n"
          ],
          "name": "stdout"
        }
      ]
    },
    {
      "cell_type": "code",
      "metadata": {
        "colab": {
          "base_uri": "https://localhost:8080/"
        },
        "id": "ayOxkjPl4njr",
        "outputId": "e1f870c5-c703-4693-c75d-b605b4d21ada"
      },
      "source": [
        "modelMetrics(y_test, lrpred)"
      ],
      "execution_count": 24,
      "outputs": [
        {
          "output_type": "stream",
          "text": [
            "R2 Score:  0.7416086130462318\n",
            "MAE Score:  0.6\n",
            "MSE Score:  1.275\n",
            "MAPE Score:  42.1547619047619\n"
          ],
          "name": "stdout"
        }
      ]
    },
    {
      "cell_type": "code",
      "metadata": {
        "colab": {
          "base_uri": "https://localhost:8080/"
        },
        "id": "kltUWpR_7EYR",
        "outputId": "9f49dd8d-4129-45e1-e731-8829476ebad1"
      },
      "source": [
        "evaluateModel(y_test, lrpred)"
      ],
      "execution_count": 25,
      "outputs": [
        {
          "output_type": "stream",
          "text": [
            "\n",
            "\n",
            "\n",
            "Confusion Matrix:\n",
            " [[ 5  8 22  0  0  0]\n",
            " [ 1 11  9  2  1  0]\n",
            " [ 5  0 17  0  0  0]\n",
            " [ 0  0  0 28  0  1]\n",
            " [ 0  0  0  0 24  0]\n",
            " [ 0  0  2  2  0 22]]\n",
            "\n",
            "\n",
            "Accuracy Score:  66.88%\n",
            "\n",
            "\n",
            "Classification Report:\n",
            "               precision    recall  f1-score   support\n",
            "\n",
            "           1       0.45      0.14      0.22        35\n",
            "           2       0.58      0.46      0.51        24\n",
            "           3       0.34      0.77      0.47        22\n",
            "           5       0.88      0.97      0.92        29\n",
            "           6       0.96      1.00      0.98        24\n",
            "           7       0.96      0.85      0.90        26\n",
            "\n",
            "    accuracy                           0.67       160\n",
            "   macro avg       0.69      0.70      0.67       160\n",
            "weighted avg       0.69      0.67      0.65       160\n",
            "\n"
          ],
          "name": "stdout"
        }
      ]
    },
    {
      "cell_type": "markdown",
      "metadata": {
        "id": "wH9ngG2S7u0S"
      },
      "source": [
        "## **2. Logistic Regression with Cross Validation**"
      ]
    },
    {
      "cell_type": "code",
      "metadata": {
        "colab": {
          "base_uri": "https://localhost:8080/"
        },
        "id": "Uvd9qMSz7J-A",
        "outputId": "04121350-c26b-4fb7-b30e-a866d6e43bd8"
      },
      "source": [
        "lrcv = LogisticRegressionCV()\n",
        "lrcv.fit(X_train, y_train)\n",
        "print('Logistic Regression CV Model: \\n', lrcv)\n",
        "lrcvpred = lrcv.predict(X_test)"
      ],
      "execution_count": 26,
      "outputs": [
        {
          "output_type": "stream",
          "text": [
            "Logistic Regression CV Model: \n",
            " LogisticRegressionCV(Cs=10, class_weight=None, cv=None, dual=False,\n",
            "                     fit_intercept=True, intercept_scaling=1.0, l1_ratios=None,\n",
            "                     max_iter=100, multi_class='auto', n_jobs=None,\n",
            "                     penalty='l2', random_state=None, refit=True, scoring=None,\n",
            "                     solver='lbfgs', tol=0.0001, verbose=0)\n"
          ],
          "name": "stdout"
        }
      ]
    },
    {
      "cell_type": "code",
      "metadata": {
        "colab": {
          "base_uri": "https://localhost:8080/"
        },
        "id": "I_LkU8sT8GyK",
        "outputId": "804c8903-e791-47cf-ef97-de5f0029e21e"
      },
      "source": [
        "modelMetrics(y_test, lrcvpred)"
      ],
      "execution_count": 27,
      "outputs": [
        {
          "output_type": "stream",
          "text": [
            "R2 Score:  0.7352754908169727\n",
            "MAE Score:  0.58125\n",
            "MSE Score:  1.30625\n",
            "MAPE Score:  37.63095238095238\n"
          ],
          "name": "stdout"
        }
      ]
    },
    {
      "cell_type": "code",
      "metadata": {
        "colab": {
          "base_uri": "https://localhost:8080/"
        },
        "id": "3AQmUpHW8Q-v",
        "outputId": "1bcb67fe-73c2-46ce-d347-501d30141570"
      },
      "source": [
        "evaluateModel(y_test, lrcvpred)"
      ],
      "execution_count": 28,
      "outputs": [
        {
          "output_type": "stream",
          "text": [
            "\n",
            "\n",
            "\n",
            "Confusion Matrix:\n",
            " [[ 9  8 18  0  0  0]\n",
            " [ 4 11  7  1  1  0]\n",
            " [ 7  0 15  0  0  0]\n",
            " [ 0  0  0 28  0  1]\n",
            " [ 0  0  0  0 24  0]\n",
            " [ 0  1  2  1  0 22]]\n",
            "\n",
            "\n",
            "Accuracy Score:  68.12%\n",
            "\n",
            "\n",
            "Classification Report:\n",
            "               precision    recall  f1-score   support\n",
            "\n",
            "           1       0.45      0.26      0.33        35\n",
            "           2       0.55      0.46      0.50        24\n",
            "           3       0.36      0.68      0.47        22\n",
            "           5       0.93      0.97      0.95        29\n",
            "           6       0.96      1.00      0.98        24\n",
            "           7       0.96      0.85      0.90        26\n",
            "\n",
            "    accuracy                           0.68       160\n",
            "   macro avg       0.70      0.70      0.69       160\n",
            "weighted avg       0.70      0.68      0.68       160\n",
            "\n"
          ],
          "name": "stdout"
        }
      ]
    },
    {
      "cell_type": "markdown",
      "metadata": {
        "id": "cJy9T-ML88aJ"
      },
      "source": [
        "## **3. Stochastic Gradient Descent Classifier**"
      ]
    },
    {
      "cell_type": "code",
      "metadata": {
        "colab": {
          "base_uri": "https://localhost:8080/"
        },
        "id": "9TzdRAG88U3s",
        "outputId": "a258f89e-2e6d-49c2-8313-0e3fbab50af3"
      },
      "source": [
        "sgdc = SGDClassifier()\n",
        "sgdc.fit(X_train, y_train)\n",
        "print('SGDClassifier Model: \\n', sgdc)\n",
        "sgdpred = sgdc.predict(X_test)"
      ],
      "execution_count": 29,
      "outputs": [
        {
          "output_type": "stream",
          "text": [
            "SGDClassifier Model: \n",
            " SGDClassifier(alpha=0.0001, average=False, class_weight=None,\n",
            "              early_stopping=False, epsilon=0.1, eta0=0.0, fit_intercept=True,\n",
            "              l1_ratio=0.15, learning_rate='optimal', loss='hinge',\n",
            "              max_iter=1000, n_iter_no_change=5, n_jobs=None, penalty='l2',\n",
            "              power_t=0.5, random_state=None, shuffle=True, tol=0.001,\n",
            "              validation_fraction=0.1, verbose=0, warm_start=False)\n"
          ],
          "name": "stdout"
        }
      ]
    },
    {
      "cell_type": "code",
      "metadata": {
        "colab": {
          "base_uri": "https://localhost:8080/"
        },
        "id": "65W8aVCh9lkj",
        "outputId": "aa12d8d3-cba7-41a2-989d-8dc1ad7555da"
      },
      "source": [
        "modelMetrics(y_test, sgdpred)"
      ],
      "execution_count": 30,
      "outputs": [
        {
          "output_type": "stream",
          "text": [
            "R2 Score:  0.5642811906269791\n",
            "MAE Score:  0.8\n",
            "MSE Score:  2.15\n",
            "MAPE Score:  24.997023809523807\n"
          ],
          "name": "stdout"
        }
      ]
    },
    {
      "cell_type": "code",
      "metadata": {
        "colab": {
          "base_uri": "https://localhost:8080/"
        },
        "id": "stL-La7o9uF9",
        "outputId": "2b5099fa-5273-4b8d-f5ce-0cbc813e4ed1"
      },
      "source": [
        "evaluateModel(y_test, sgdpred)"
      ],
      "execution_count": 31,
      "outputs": [
        {
          "output_type": "stream",
          "text": [
            "\n",
            "\n",
            "\n",
            "Confusion Matrix:\n",
            " [[35  0  0  0  0  0]\n",
            " [19  0  0  2  3  0]\n",
            " [22  0  0  0  0  0]\n",
            " [ 0  0  0 28  0  1]\n",
            " [ 0  0  0  0 24  0]\n",
            " [ 4  0  0  1 19  2]]\n",
            "\n",
            "\n",
            "Accuracy Score:  55.62%\n",
            "\n",
            "\n",
            "Classification Report:\n",
            "               precision    recall  f1-score   support\n",
            "\n",
            "           1       0.44      1.00      0.61        35\n",
            "           2       0.00      0.00      0.00        24\n",
            "           3       0.00      0.00      0.00        22\n",
            "           5       0.90      0.97      0.93        29\n",
            "           6       0.52      1.00      0.69        24\n",
            "           7       0.67      0.08      0.14        26\n",
            "\n",
            "    accuracy                           0.56       160\n",
            "   macro avg       0.42      0.51      0.39       160\n",
            "weighted avg       0.45      0.56      0.43       160\n",
            "\n"
          ],
          "name": "stdout"
        }
      ]
    },
    {
      "cell_type": "markdown",
      "metadata": {
        "id": "Pw7F2NcB2JqE"
      },
      "source": [
        "## **4. Gaussian Naive Bayes Classifier**"
      ]
    },
    {
      "cell_type": "code",
      "metadata": {
        "id": "b6hoYFMt9zWX",
        "colab": {
          "base_uri": "https://localhost:8080/"
        },
        "outputId": "e0e06119-9b59-407c-a2f0-019dd91a4f11"
      },
      "source": [
        "gnb = GaussianNB()\n",
        "gnb.fit(X_train, y_train)\n",
        "print('Gaussian Naive Bayes Classifier Model: \\n', sgdc)\n",
        "gnbpred = gnb.predict(X_test)"
      ],
      "execution_count": 32,
      "outputs": [
        {
          "output_type": "stream",
          "text": [
            "Gaussian Naive Bayes Classifier Model: \n",
            " SGDClassifier(alpha=0.0001, average=False, class_weight=None,\n",
            "              early_stopping=False, epsilon=0.1, eta0=0.0, fit_intercept=True,\n",
            "              l1_ratio=0.15, learning_rate='optimal', loss='hinge',\n",
            "              max_iter=1000, n_iter_no_change=5, n_jobs=None, penalty='l2',\n",
            "              power_t=0.5, random_state=None, shuffle=True, tol=0.001,\n",
            "              validation_fraction=0.1, verbose=0, warm_start=False)\n"
          ],
          "name": "stdout"
        }
      ]
    },
    {
      "cell_type": "code",
      "metadata": {
        "colab": {
          "base_uri": "https://localhost:8080/"
        },
        "id": "BFEqBjrK2yZ7",
        "outputId": "33ce60fe-ed03-443f-ecb5-be72bcc04e20"
      },
      "source": [
        "modelMetrics(y_test, gnbpred)"
      ],
      "execution_count": 33,
      "outputs": [
        {
          "output_type": "stream",
          "text": [
            "R2 Score:  0.6453451551614946\n",
            "MAE Score:  0.675\n",
            "MSE Score:  1.75\n",
            "MAPE Score:  41.41964285714286\n"
          ],
          "name": "stdout"
        }
      ]
    },
    {
      "cell_type": "code",
      "metadata": {
        "colab": {
          "base_uri": "https://localhost:8080/"
        },
        "id": "L6SMd-tv26tv",
        "outputId": "3347a11c-6d83-4077-cc29-509ee100e3bf"
      },
      "source": [
        "evaluateModel(y_test, gnbpred)"
      ],
      "execution_count": 34,
      "outputs": [
        {
          "output_type": "stream",
          "text": [
            "\n",
            "\n",
            "\n",
            "Confusion Matrix:\n",
            " [[12  4 18  0  1  0]\n",
            " [ 5  4 12  2  1  0]\n",
            " [ 4  1 16  0  1  0]\n",
            " [ 0  2  0 27  0  0]\n",
            " [ 0  0  0  0 24  0]\n",
            " [ 2  0  0  3  0 21]]\n",
            "\n",
            "\n",
            "Accuracy Score:  65.00%\n",
            "\n",
            "\n",
            "Classification Report:\n",
            "               precision    recall  f1-score   support\n",
            "\n",
            "           1       0.52      0.34      0.41        35\n",
            "           2       0.36      0.17      0.23        24\n",
            "           3       0.35      0.73      0.47        22\n",
            "           5       0.84      0.93      0.89        29\n",
            "           6       0.89      1.00      0.94        24\n",
            "           7       1.00      0.81      0.89        26\n",
            "\n",
            "    accuracy                           0.65       160\n",
            "   macro avg       0.66      0.66      0.64       160\n",
            "weighted avg       0.67      0.65      0.64       160\n",
            "\n"
          ],
          "name": "stdout"
        }
      ]
    },
    {
      "cell_type": "markdown",
      "metadata": {
        "id": "cc9-l24c3ReY"
      },
      "source": [
        "## **5. K Nearest Neighbors Classifier**"
      ]
    },
    {
      "cell_type": "code",
      "metadata": {
        "colab": {
          "base_uri": "https://localhost:8080/"
        },
        "id": "8KHSGLzI2_s0",
        "outputId": "9b379444-4108-46b5-c228-d57716ddfeda"
      },
      "source": [
        "knc = KNeighborsClassifier()\n",
        "knc.fit(X_train, y_train)\n",
        "print('K Nearest Neighbors Classifier Model: \\n', knc)\n",
        "kncpred = knc.predict(X_test)"
      ],
      "execution_count": 38,
      "outputs": [
        {
          "output_type": "stream",
          "text": [
            "K Nearest Neighbors Classifier Model: \n",
            " KNeighborsClassifier(algorithm='auto', leaf_size=30, metric='minkowski',\n",
            "                     metric_params=None, n_jobs=None, n_neighbors=5, p=2,\n",
            "                     weights='uniform')\n"
          ],
          "name": "stdout"
        }
      ]
    },
    {
      "cell_type": "code",
      "metadata": {
        "colab": {
          "base_uri": "https://localhost:8080/"
        },
        "id": "JHFz-UPk4QPA",
        "outputId": "fb049bd9-1db7-4b6b-b95a-44937b1710bd"
      },
      "source": [
        "modelMetrics(y_test, kncpred)"
      ],
      "execution_count": 36,
      "outputs": [
        {
          "output_type": "stream",
          "text": [
            "R2 Score:  0.7504749841671945\n",
            "MAE Score:  0.44375\n",
            "MSE Score:  1.23125\n",
            "MAPE Score:  22.36904761904762\n"
          ],
          "name": "stdout"
        }
      ]
    },
    {
      "cell_type": "code",
      "metadata": {
        "colab": {
          "base_uri": "https://localhost:8080/"
        },
        "id": "dsi_P3Qf4V4z",
        "outputId": "69b1ca26-2893-426a-b3a0-3a0caf2f40b4"
      },
      "source": [
        "evaluateModel(y_test, kncpred)"
      ],
      "execution_count": 37,
      "outputs": [
        {
          "output_type": "stream",
          "text": [
            "\n",
            "\n",
            "\n",
            "Confusion Matrix:\n",
            " [[22  6  7  0  0  0]\n",
            " [ 4 14  3  1  2  0]\n",
            " [ 5  0 17  0  0  0]\n",
            " [ 0  1  0 28  0  0]\n",
            " [ 0  0  0  0 24  0]\n",
            " [ 0  2  2  1  0 21]]\n",
            "\n",
            "\n",
            "Accuracy Score:  78.75%\n",
            "\n",
            "\n",
            "Classification Report:\n",
            "               precision    recall  f1-score   support\n",
            "\n",
            "           1       0.71      0.63      0.67        35\n",
            "           2       0.61      0.58      0.60        24\n",
            "           3       0.59      0.77      0.67        22\n",
            "           5       0.93      0.97      0.95        29\n",
            "           6       0.92      1.00      0.96        24\n",
            "           7       1.00      0.81      0.89        26\n",
            "\n",
            "    accuracy                           0.79       160\n",
            "   macro avg       0.79      0.79      0.79       160\n",
            "weighted avg       0.80      0.79      0.79       160\n",
            "\n"
          ],
          "name": "stdout"
        }
      ]
    },
    {
      "cell_type": "markdown",
      "metadata": {
        "id": "RufZbXW86uCF"
      },
      "source": [
        "## **6. Decision Tree Classifier**"
      ]
    },
    {
      "cell_type": "code",
      "metadata": {
        "colab": {
          "base_uri": "https://localhost:8080/"
        },
        "id": "m9uVbkoR4ZaC",
        "outputId": "bc05a389-045f-44a7-b2a2-f0b0f1b0ea28"
      },
      "source": [
        "dtc = DecisionTreeClassifier()\n",
        "dtc.fit(X_train, y_train)\n",
        "print('Decision Tree Classifier Model: \\n', dtc)\n",
        "dtcpred = dtc.predict(X_test)"
      ],
      "execution_count": 39,
      "outputs": [
        {
          "output_type": "stream",
          "text": [
            "Decision Tree Classifier Model: \n",
            " DecisionTreeClassifier(ccp_alpha=0.0, class_weight=None, criterion='gini',\n",
            "                       max_depth=None, max_features=None, max_leaf_nodes=None,\n",
            "                       min_impurity_decrease=0.0, min_impurity_split=None,\n",
            "                       min_samples_leaf=1, min_samples_split=2,\n",
            "                       min_weight_fraction_leaf=0.0, presort='deprecated',\n",
            "                       random_state=None, splitter='best')\n"
          ],
          "name": "stdout"
        }
      ]
    },
    {
      "cell_type": "code",
      "metadata": {
        "colab": {
          "base_uri": "https://localhost:8080/"
        },
        "id": "OV6CPTpu7EVf",
        "outputId": "a9ffa925-ae7a-4d37-c5df-fc0c2399eef7"
      },
      "source": [
        "modelMetrics(y_test, dtcpred)"
      ],
      "execution_count": 40,
      "outputs": [
        {
          "output_type": "stream",
          "text": [
            "R2 Score:  0.8682710576314123\n",
            "MAE Score:  0.225\n",
            "MSE Score:  0.65\n",
            "MAPE Score:  12.5\n"
          ],
          "name": "stdout"
        }
      ]
    },
    {
      "cell_type": "code",
      "metadata": {
        "colab": {
          "base_uri": "https://localhost:8080/"
        },
        "id": "ooblIjeS7Jw-",
        "outputId": "48a936d8-f369-459b-e207-7dea6d5fccf0"
      },
      "source": [
        "evaluateModel(y_test, dtcpred)"
      ],
      "execution_count": 42,
      "outputs": [
        {
          "output_type": "stream",
          "text": [
            "\n",
            "\n",
            "\n",
            "Confusion Matrix:\n",
            " [[24  8  3  0  0  0]\n",
            " [ 6 16  2  0  0  0]\n",
            " [ 0  0 22  0  0  0]\n",
            " [ 0  0  0 29  0  0]\n",
            " [ 0  0  0  0 24  0]\n",
            " [ 2  0  0  1  0 23]]\n",
            "\n",
            "\n",
            "Accuracy Score:  86.25%\n",
            "\n",
            "\n",
            "Classification Report:\n",
            "               precision    recall  f1-score   support\n",
            "\n",
            "           1       0.75      0.69      0.72        35\n",
            "           2       0.67      0.67      0.67        24\n",
            "           3       0.81      1.00      0.90        22\n",
            "           5       0.97      1.00      0.98        29\n",
            "           6       1.00      1.00      1.00        24\n",
            "           7       1.00      0.88      0.94        26\n",
            "\n",
            "    accuracy                           0.86       160\n",
            "   macro avg       0.87      0.87      0.87       160\n",
            "weighted avg       0.86      0.86      0.86       160\n",
            "\n"
          ],
          "name": "stdout"
        }
      ]
    },
    {
      "cell_type": "markdown",
      "metadata": {
        "id": "UeKlZ9kr7arp"
      },
      "source": [
        "## **7. Random Forest Classifier**"
      ]
    },
    {
      "cell_type": "code",
      "metadata": {
        "colab": {
          "base_uri": "https://localhost:8080/"
        },
        "id": "Mwi7gZ8s7Nw4",
        "outputId": "4fbd4560-065d-4f7b-c6f4-9ce9c31eaacf"
      },
      "source": [
        "rfc = RandomForestClassifier()\n",
        "rfc.fit(X_train, y_train)\n",
        "print('Random Forest Classifier Model: \\n', rfc)\n",
        "rfcpred = rfc.predict(X_test)"
      ],
      "execution_count": 138,
      "outputs": [
        {
          "output_type": "stream",
          "text": [
            "Random Forest Classifier Model: \n",
            " RandomForestClassifier(bootstrap=True, ccp_alpha=0.0, class_weight=None,\n",
            "                       criterion='gini', max_depth=None, max_features='auto',\n",
            "                       max_leaf_nodes=None, max_samples=None,\n",
            "                       min_impurity_decrease=0.0, min_impurity_split=None,\n",
            "                       min_samples_leaf=1, min_samples_split=2,\n",
            "                       min_weight_fraction_leaf=0.0, n_estimators=100,\n",
            "                       n_jobs=None, oob_score=False, random_state=None,\n",
            "                       verbose=0, warm_start=False)\n"
          ],
          "name": "stdout"
        }
      ]
    },
    {
      "cell_type": "code",
      "metadata": {
        "colab": {
          "base_uri": "https://localhost:8080/"
        },
        "id": "CWyPRXD57xjS",
        "outputId": "b0435c1b-3ffd-4a4a-ee3f-65c12a48962a"
      },
      "source": [
        "modelMetrics(y_test, rfcpred)"
      ],
      "execution_count": 139,
      "outputs": [
        {
          "output_type": "stream",
          "text": [
            "R2 Score:  0.844205193160228\n",
            "MAE Score:  0.19375\n",
            "MSE Score:  0.76875\n",
            "MAPE Score:  7.321428571428572\n"
          ],
          "name": "stdout"
        }
      ]
    },
    {
      "cell_type": "code",
      "metadata": {
        "colab": {
          "base_uri": "https://localhost:8080/"
        },
        "id": "XpLhwPQK84E5",
        "outputId": "d370dfd7-2111-4d58-b1d8-6bf541f8c21b"
      },
      "source": [
        "evaluateModel(y_test, rfcpred)"
      ],
      "execution_count": 140,
      "outputs": [
        {
          "output_type": "stream",
          "text": [
            "\n",
            "\n",
            "\n",
            "Confusion Matrix:\n",
            " [[31  2  2  0  0  0]\n",
            " [ 1 20  2  1  0  0]\n",
            " [ 0  0 22  0  0  0]\n",
            " [ 0  0  0 29  0  0]\n",
            " [ 0  0  0  0 24  0]\n",
            " [ 2  1  0  1  0 22]]\n",
            "\n",
            "\n",
            "Accuracy Score:  92.50%\n",
            "\n",
            "\n",
            "Classification Report:\n",
            "               precision    recall  f1-score   support\n",
            "\n",
            "           1       0.91      0.89      0.90        35\n",
            "           2       0.87      0.83      0.85        24\n",
            "           3       0.85      1.00      0.92        22\n",
            "           5       0.94      1.00      0.97        29\n",
            "           6       1.00      1.00      1.00        24\n",
            "           7       1.00      0.85      0.92        26\n",
            "\n",
            "    accuracy                           0.93       160\n",
            "   macro avg       0.93      0.93      0.92       160\n",
            "weighted avg       0.93      0.93      0.92       160\n",
            "\n"
          ],
          "name": "stdout"
        }
      ]
    },
    {
      "cell_type": "markdown",
      "metadata": {
        "id": "e2uahQbK90wd"
      },
      "source": [
        "###**Hyperparameter Tuning using Grid SearchCV**"
      ]
    },
    {
      "cell_type": "code",
      "metadata": {
        "id": "ma6dEj4r9BNQ"
      },
      "source": [
        "param_grid = {'n_estimators' : [100, 150, 200, 250],\n",
        "              'criterion' : ['gini', 'entropy']           \n",
        "}\n",
        "\n",
        "grid = GridSearchCV(estimator = rfc, param_grid = param_grid, n_jobs= 5,\n",
        "                    refit=True, verbose = 5)"
      ],
      "execution_count": 188,
      "outputs": []
    },
    {
      "cell_type": "code",
      "metadata": {
        "colab": {
          "base_uri": "https://localhost:8080/"
        },
        "id": "P8zcZKobAOOM",
        "outputId": "365b16be-94ec-4b87-8897-53b03c22ded0"
      },
      "source": [
        "#Fitting the train data on grid search\n",
        "grid.fit(X_train, y_train)"
      ],
      "execution_count": 189,
      "outputs": [
        {
          "output_type": "stream",
          "text": [
            "Fitting 5 folds for each of 8 candidates, totalling 40 fits\n"
          ],
          "name": "stdout"
        },
        {
          "output_type": "stream",
          "text": [
            "[Parallel(n_jobs=5)]: Using backend LokyBackend with 5 concurrent workers.\n",
            "[Parallel(n_jobs=5)]: Done   8 tasks      | elapsed:    1.9s\n",
            "[Parallel(n_jobs=5)]: Done  40 out of  40 | elapsed:   10.9s remaining:    0.0s\n",
            "[Parallel(n_jobs=5)]: Done  40 out of  40 | elapsed:   10.9s finished\n"
          ],
          "name": "stderr"
        },
        {
          "output_type": "execute_result",
          "data": {
            "text/plain": [
              "GridSearchCV(cv=None, error_score=nan,\n",
              "             estimator=RandomForestClassifier(bootstrap=True, ccp_alpha=0.0,\n",
              "                                              class_weight=None,\n",
              "                                              criterion='gini', max_depth=None,\n",
              "                                              max_features='auto',\n",
              "                                              max_leaf_nodes=None,\n",
              "                                              max_samples=None,\n",
              "                                              min_impurity_decrease=0.0,\n",
              "                                              min_impurity_split=None,\n",
              "                                              min_samples_leaf=1,\n",
              "                                              min_samples_split=2,\n",
              "                                              min_weight_fraction_leaf=0.0,\n",
              "                                              n_estimators=100, n_jobs=None,\n",
              "                                              oob_score=False,\n",
              "                                              random_state=None, verbose=0,\n",
              "                                              warm_start=False),\n",
              "             iid='deprecated', n_jobs=5,\n",
              "             param_grid={'criterion': ['gini', 'entropy'],\n",
              "                         'n_estimators': [100, 150, 200, 250]},\n",
              "             pre_dispatch='2*n_jobs', refit=True, return_train_score=False,\n",
              "             scoring=None, verbose=5)"
            ]
          },
          "metadata": {
            "tags": []
          },
          "execution_count": 189
        }
      ]
    },
    {
      "cell_type": "code",
      "metadata": {
        "id": "C8YEaGQiAR3F"
      },
      "source": [
        "gridpred = grid.predict(X_test)"
      ],
      "execution_count": 190,
      "outputs": []
    },
    {
      "cell_type": "code",
      "metadata": {
        "colab": {
          "base_uri": "https://localhost:8080/"
        },
        "id": "3QQPu5TjAsBS",
        "outputId": "c8f79548-4a81-4f32-9bb0-5e9748974954"
      },
      "source": [
        "print('Random Forest Classifier with GridSearchCV Model: \\n', grid)"
      ],
      "execution_count": 191,
      "outputs": [
        {
          "output_type": "stream",
          "text": [
            "Random Forest Classifier with GridSearchCV Model: \n",
            " GridSearchCV(cv=None, error_score=nan,\n",
            "             estimator=RandomForestClassifier(bootstrap=True, ccp_alpha=0.0,\n",
            "                                              class_weight=None,\n",
            "                                              criterion='gini', max_depth=None,\n",
            "                                              max_features='auto',\n",
            "                                              max_leaf_nodes=None,\n",
            "                                              max_samples=None,\n",
            "                                              min_impurity_decrease=0.0,\n",
            "                                              min_impurity_split=None,\n",
            "                                              min_samples_leaf=1,\n",
            "                                              min_samples_split=2,\n",
            "                                              min_weight_fraction_leaf=0.0,\n",
            "                                              n_estimators=100, n_jobs=None,\n",
            "                                              oob_score=False,\n",
            "                                              random_state=None, verbose=0,\n",
            "                                              warm_start=False),\n",
            "             iid='deprecated', n_jobs=5,\n",
            "             param_grid={'criterion': ['gini', 'entropy'],\n",
            "                         'n_estimators': [100, 150, 200, 250]},\n",
            "             pre_dispatch='2*n_jobs', refit=True, return_train_score=False,\n",
            "             scoring=None, verbose=5)\n"
          ],
          "name": "stdout"
        }
      ]
    },
    {
      "cell_type": "code",
      "metadata": {
        "colab": {
          "base_uri": "https://localhost:8080/"
        },
        "id": "QKJ5P0fdBlpm",
        "outputId": "93ee9edf-b796-4762-969e-f411914b84b2"
      },
      "source": [
        "modelMetrics(y_test, gridpred)"
      ],
      "execution_count": 192,
      "outputs": [
        {
          "output_type": "stream",
          "text": [
            "R2 Score:  0.8188727042431919\n",
            "MAE Score:  0.23125\n",
            "MSE Score:  0.89375\n",
            "MAPE Score:  9.821428571428573\n"
          ],
          "name": "stdout"
        }
      ]
    },
    {
      "cell_type": "code",
      "metadata": {
        "colab": {
          "base_uri": "https://localhost:8080/"
        },
        "id": "KTzka1osBtPY",
        "outputId": "9b6406e2-e631-4bb1-a4e5-6889f57e8e7f"
      },
      "source": [
        "evaluateModel(y_test, gridpred)"
      ],
      "execution_count": 193,
      "outputs": [
        {
          "output_type": "stream",
          "text": [
            "\n",
            "\n",
            "\n",
            "Confusion Matrix:\n",
            " [[30  2  3  0  0  0]\n",
            " [ 2 19  1  1  1  0]\n",
            " [ 0  0 22  0  0  0]\n",
            " [ 0  0  0 29  0  0]\n",
            " [ 0  0  0  0 24  0]\n",
            " [ 2  1  0  1  0 22]]\n",
            "\n",
            "\n",
            "Accuracy Score:  91.25%\n",
            "\n",
            "\n",
            "Classification Report:\n",
            "               precision    recall  f1-score   support\n",
            "\n",
            "           1       0.88      0.86      0.87        35\n",
            "           2       0.86      0.79      0.83        24\n",
            "           3       0.85      1.00      0.92        22\n",
            "           5       0.94      1.00      0.97        29\n",
            "           6       0.96      1.00      0.98        24\n",
            "           7       1.00      0.85      0.92        26\n",
            "\n",
            "    accuracy                           0.91       160\n",
            "   macro avg       0.91      0.92      0.91       160\n",
            "weighted avg       0.91      0.91      0.91       160\n",
            "\n"
          ],
          "name": "stdout"
        }
      ]
    },
    {
      "cell_type": "code",
      "metadata": {
        "colab": {
          "base_uri": "https://localhost:8080/"
        },
        "id": "bZ6tpGwLBxUb",
        "outputId": "aedaddab-d3d9-4d60-aec9-05750aa57a4d"
      },
      "source": [
        "print(\"Model Details: \", grid.best_estimator_)"
      ],
      "execution_count": 194,
      "outputs": [
        {
          "output_type": "stream",
          "text": [
            "Model Details:  RandomForestClassifier(bootstrap=True, ccp_alpha=0.0, class_weight=None,\n",
            "                       criterion='entropy', max_depth=None, max_features='auto',\n",
            "                       max_leaf_nodes=None, max_samples=None,\n",
            "                       min_impurity_decrease=0.0, min_impurity_split=None,\n",
            "                       min_samples_leaf=1, min_samples_split=2,\n",
            "                       min_weight_fraction_leaf=0.0, n_estimators=200,\n",
            "                       n_jobs=None, oob_score=False, random_state=None,\n",
            "                       verbose=0, warm_start=False)\n"
          ],
          "name": "stdout"
        }
      ]
    },
    {
      "cell_type": "code",
      "metadata": {
        "colab": {
          "base_uri": "https://localhost:8080/"
        },
        "id": "Prm3Ot6_DTPV",
        "outputId": "e2198994-9268-42d3-93c3-e26282f7c5ad"
      },
      "source": [
        "print(\"Best Parameters: \", grid.best_params_)"
      ],
      "execution_count": 195,
      "outputs": [
        {
          "output_type": "stream",
          "text": [
            "Best Parameters:  {'criterion': 'entropy', 'n_estimators': 200}\n"
          ],
          "name": "stdout"
        }
      ]
    },
    {
      "cell_type": "code",
      "metadata": {
        "colab": {
          "base_uri": "https://localhost:8080/"
        },
        "id": "syzhJj6AFfwJ",
        "outputId": "02f1286a-9515-4e57-f04a-3273db5aa25e"
      },
      "source": [
        "grid.best_score_"
      ],
      "execution_count": 196,
      "outputs": [
        {
          "output_type": "execute_result",
          "data": {
            "text/plain": [
              "0.9052542372881355"
            ]
          },
          "metadata": {
            "tags": []
          },
          "execution_count": 196
        }
      ]
    },
    {
      "cell_type": "markdown",
      "metadata": {
        "id": "da3lbLArO55X"
      },
      "source": [
        "### **Generating Model**"
      ]
    },
    {
      "cell_type": "code",
      "metadata": {
        "colab": {
          "base_uri": "https://localhost:8080/"
        },
        "id": "uFculklcK6sy",
        "outputId": "fb3e04d4-3a2b-4d44-ea25-cd52a9876b23"
      },
      "source": [
        "joblib.dump(grid, 'GlassPredModel.pkl')"
      ],
      "execution_count": 198,
      "outputs": [
        {
          "output_type": "execute_result",
          "data": {
            "text/plain": [
              "['GlassPredModel.pkl']"
            ]
          },
          "metadata": {
            "tags": []
          },
          "execution_count": 198
        }
      ]
    }
  ]
}